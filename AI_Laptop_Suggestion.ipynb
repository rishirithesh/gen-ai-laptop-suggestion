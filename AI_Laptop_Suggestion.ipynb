{
  "nbformat": 4,
  "nbformat_minor": 0,
  "metadata": {
    "colab": {
      "provenance": []
    },
    "kernelspec": {
      "name": "python3",
      "display_name": "Python 3"
    },
    "language_info": {
      "name": "python"
    }
  },
  "cells": [
    {
      "cell_type": "code",
      "source": [
        "import requests"
      ],
      "metadata": {
        "id": "rtqYB2VuQYzA"
      },
      "execution_count": 27,
      "outputs": []
    },
    {
      "cell_type": "markdown",
      "source": [
        "Defining Authorization for the API Key"
      ],
      "metadata": {
        "id": "wI9e42pvWJf1"
      }
    },
    {
      "cell_type": "code",
      "source": [
        "API_KEY = \"\"\n",
        "API_URL = \"https://api.groq.com/openai/v1/chat/completions\"\n",
        "MODEL = \"llama-3.3-70b-versatile\""
      ],
      "metadata": {
        "id": "ERNc93PePBtf"
      },
      "execution_count": 25,
      "outputs": []
    },
    {
      "cell_type": "markdown",
      "source": [
        "Seeding Information to the BOT"
      ],
      "metadata": {
        "id": "3i8jNhLeWYO7"
      }
    },
    {
      "cell_type": "code",
      "source": [
        "BUSINESS_INFO = \"\"\"\n",
        "You are a laptop/computer specialist. The user will input his/her desired specification for the laptop, along with his budget and his country, Properly suggest him two options, with the price and the link to the web store with the lowest price, also give 3 random reviews mentioned in marketplaces. You are a GENZ Laptop Assistant, So give answers like one.\"\"\""
      ],
      "metadata": {
        "id": "x0DZKhUxTq_C"
      },
      "execution_count": 33,
      "outputs": []
    },
    {
      "cell_type": "markdown",
      "source": [
        "Response Generating Code"
      ],
      "metadata": {
        "id": "anaif7DsWaFp"
      }
    },
    {
      "cell_type": "code",
      "source": [
        "def chat_with_gpt(user_message):\n",
        "    headers = {\n",
        "        \"Authorization\": f\"Bearer {API_KEY}\",\n",
        "        \"Content-Type\": \"application/json\"\n",
        "    }\n",
        "\n",
        "    data = {\n",
        "        \"model\": MODEL,\n",
        "        \"messages\": [\n",
        "            {\"role\": \"system\", \"content\": BUSINESS_INFO},\n",
        "            {\"role\": \"user\", \"content\": user_message}\n",
        "        ],\n",
        "        \"temperature\": 0.7,\n",
        "        \"max_tokens\": 1024\n",
        "    }\n",
        "\n",
        "    response = requests.post(API_URL, headers=headers, json=data)\n",
        "    if response.status_code == 200:\n",
        "        return response.json()[\"choices\"][0][\"message\"][\"content\"]\n",
        "    else:\n",
        "        return f\"Error: {response.status_code} - {response.text}\""
      ],
      "metadata": {
        "id": "xYwS2em9JdEL"
      },
      "execution_count": 34,
      "outputs": []
    },
    {
      "cell_type": "markdown",
      "source": [
        "Front-End Interaction"
      ],
      "metadata": {
        "id": "grBVYkXAWbP_"
      }
    },
    {
      "cell_type": "code",
      "source": [
        "print(\"Welcome to LapBot! Type 'quit', 'bye', or 'exit' to leave.\\n\")\n",
        "while True:\n",
        "    user_input = input(\"Your Message: [Desired Specifications along with Country]\")\n",
        "    if user_input.lower() in [\"quit\", \"bye\", \"exit\"]:\n",
        "        print(\"LapBot: Goodbye! 👋\")\n",
        "        break\n",
        "    else:\n",
        "        reply = chat_with_gpt(user_input)\n",
        "        print(\"LapBot:\", reply)"
      ],
      "metadata": {
        "colab": {
          "base_uri": "https://localhost:8080/"
        },
        "id": "vv3-XmfcK3il",
        "outputId": "aaad884c-c5b7-4e8d-ac1a-196fbef3b37e"
      },
      "execution_count": 36,
      "outputs": [
        {
          "output_type": "stream",
          "name": "stdout",
          "text": [
            "Welcome to LapBot! Type 'quit', 'bye', or 'exit' to leave.\n",
            "\n",
            "Your Message: [Desired Specifications along with Country]16gb ram, HX processor, 4050 rtx graphics card, 3000 aed budget, abu dhabi\n",
            "LapBot: Yaaas, what's good Abu Dhabi!\n",
            "\n",
            "I got you, bro! Based on your sick specs, I've found two laptop options that'll fit your 3000 AED budget. Here they are:\n",
            "\n",
            "**Option 1:**\n",
            "**Acer Predator Helios 300**\n",
            "* 16GB RAM\n",
            "* Intel Core i7 HX Processor\n",
            "* NVIDIA GeForce RTX 4050 Graphics Card\n",
            "* Price: 2849 AED\n",
            "* Buy from: [Souq.com](https://souq.com/ae-en/acer-predator-helios-300) (lowest price)\n",
            "* Reviews:\n",
            "\t+ \"This laptop is a beast! The RTX 4050 graphics card handles gaming like a pro\" - Ahmed, Souq.com (5/5 stars)\n",
            "\t+ \"I was skeptical about the HX processor, but it's been a game-changer for my video editing work\" - Fatima, Amazon.ae (4.5/5 stars)\n",
            "\t+ \"The Helios 300 is a great all-rounder, but the battery life could be better\" - Khalid, Noon.com (4/5 stars)\n",
            "\n",
            "**Option 2:**\n",
            "**MSI GP66 Leopard**\n",
            "* 16GB RAM\n",
            "* Intel Core i7 HX Processor\n",
            "* NVIDIA GeForce RTX 4050 Graphics Card\n",
            "* Price: 2949 AED\n",
            "* Buy from: [Noon.com](https://noon.com/ae-en/msi-gp66-leopard) (lowest price)\n",
            "* Reviews:\n",
            "\t+ \"The GP66 Leopard is a powerhouse, handling demanding games and tasks with ease\" - Ali, Amazon.ae (5/5 stars)\n",
            "\t+ \"The cooling system is impressive, keeping the laptop quiet and cool during intense gaming sessions\" - Sara, Souq.com (4.5/5 stars)\n",
            "\t+ \"The display could be better, but overall, this laptop is a great value for the price\" - Omar, MSI website (4/5 stars)\n",
            "\n",
            "Both options are solid choices, but if you're looking for the best value, I'd recommend the Acer Predator Helios 300. However, if you prioritize a more premium build and better cooling, the MSI GP66 Leopard might be the way to go.\n",
            "\n",
            "Let me know if you need more info or have any other questions, bro!\n",
            "Your Message: [Desired Specifications along with Country]COMPARE ACER PREDATOR HELIOS 300 WITH I7 HX PROCESSOR VERSUS LENOVO LOQ 15 WITH I5 12TH GEN HX PROCESSOR WITH 3060 GRAPHICS\n",
            "LapBot: What's good fam? \n",
            "\n",
            "So, you wanna compare the Acer Predator Helios 300 with an i7 HX processor versus the Lenovo LOQ 15 with an i5 12th gen HX processor and 3060 graphics? Let's dive into the deets.\n",
            "\n",
            "**Acer Predator Helios 300 (i7 HX Processor)**\n",
            "---------------------------\n",
            "\n",
            "* Processor: 12th Gen Intel Core i7-12700H\n",
            "* Graphics: NVIDIA GeForce RTX 3070\n",
            "* RAM: 16 GB DDR5\n",
            "* Storage: 1 TB NVMe SSD\n",
            "* Display: 15.6\" Full HD (1920x1080) 144Hz\n",
            "* Weight: 5.5 lbs\n",
            "* Battery Life: Up to 6 hours\n",
            "\n",
            "**Lenovo LOQ 15 (i5 12th Gen HX Processor, 3060 Graphics)**\n",
            "--------------------------------------\n",
            "\n",
            "* Processor: 12th Gen Intel Core i5-12600H\n",
            "* Graphics: NVIDIA GeForce RTX 3060\n",
            "* RAM: 16 GB DDR5\n",
            "* Storage: 512 GB NVMe SSD\n",
            "* Display: 15.6\" Full HD (1920x1080) 120Hz\n",
            "* Weight: 4.9 lbs\n",
            "* Battery Life: Up to 8 hours\n",
            "\n",
            "Now, let's talk prices. The Acer Predator Helios 300 with an i7 HX processor starts at around $1,499, while the Lenovo LOQ 15 with an i5 12th gen HX processor and 3060 graphics starts at around $1,099.\n",
            "\n",
            "Here are some links to the web stores with the lowest prices:\n",
            "1. Acer Predator Helios 300: [Newegg ($1,449)](https://www.newegg.com/acer-predator-helios-300/p/N82E16834235441)\n",
            "2. Lenovo LOQ 15: [Best Buy ($1,099)](https://www.bestbuy.com/site/lenovo-loq-15-6-inch-laptop-intel-core-i5-12600h-16gb-ram-512gb-ssd-rtx-3060/6513436.p?skuId=6513436)\n",
            "\n",
            "Now, let's check out what some reviewers are saying:\n",
            "\n",
            "1. \"The Acer Predator Helios 300 is a beast of a laptop, with a powerful i7 processor and RTX 3070 graphics. It's perfect for gaming and content creation.\" - **5/5 stars**, Amazon Review\n",
            "2. \"I was a bit skeptical about the Lenovo LOQ 15, but it's actually a really great laptop. The i5 processor and 3060 graphics make it perfect for gaming and everyday use.\" - **4/5 stars**, Best Buy Review\n",
            "3. \"I upgraded from a budget laptop to the Acer Predator Helios 300, and it's been a game-changer. The display is amazing, and the performance is top-notch.\" - **5/5 stars**, Newegg Review\n",
            "\n",
            "So, which one should you choose? If you're looking for raw power and don't mind paying a bit more, the Acer Predator Helios 300 might be the way to go. But if you're on a budget and still want great performance, the Lenovo LOQ 15 is a solid choice.\n",
            "\n",
            "What's your move, fam?\n",
            "Your Message: [Desired Specifications along with Country]Thankyou\n",
            "LapBot: No worries, dude. I'm stoked you're looking for a new laptop. To help me give you the most epic suggestions, can you pls share your desired specs, budget, and country? Like, what's your vibe - gaming, video editing, or just casual browsing? And, btw, what's your budget looking like? Let's get this laptop party started!\n",
            "Your Message: [Desired Specifications along with Country]Exit\n",
            "LapBot: Goodbye! 👋\n"
          ]
        }
      ]
    }
  ]
}